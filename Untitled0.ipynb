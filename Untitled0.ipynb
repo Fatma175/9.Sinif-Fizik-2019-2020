{
  "nbformat": 4,
  "nbformat_minor": 0,
  "metadata": {
    "colab": {
      "name": "Untitled0.ipynb",
      "provenance": [],
      "collapsed_sections": [],
      "authorship_tag": "ABX9TyPjYQoDePbXG8/9agVCYtvN",
      "include_colab_link": true
    },
    "kernelspec": {
      "name": "python3",
      "display_name": "Python 3"
    }
  },
  "cells": [
    {
      "cell_type": "markdown",
      "metadata": {
        "id": "view-in-github",
        "colab_type": "text"
      },
      "source": [
        "<a href=\"https://colab.research.google.com/github/Fatma175/9.Sinif-Fizik-2019-2020/blob/master/Untitled0.ipynb\" target=\"_parent\"><img src=\"https://colab.research.google.com/assets/colab-badge.svg\" alt=\"Open In Colab\"/></a>"
      ]
    },
    {
      "cell_type": "code",
      "metadata": {
        "id": "3Lt7lnEXXpg6",
        "colab_type": "code",
        "colab": {}
      },
      "source": [
        ""
      ],
      "execution_count": 0,
      "outputs": []
    },
    {
      "cell_type": "markdown",
      "metadata": {
        "id": "jsjswrBiXrGu",
        "colab_type": "text"
      },
      "source": [
        "**ödev**\n",
        "f=m.a"
      ]
    },
    {
      "cell_type": "markdown",
      "metadata": {
        "id": "p4M3EkXnX9e3",
        "colab_type": "text"
      },
      "source": [
        "**ödev 3**\n"
      ]
    },
    {
      "cell_type": "code",
      "metadata": {
        "id": "STVixQbUYB-0",
        "colab_type": "code",
        "colab": {}
      },
      "source": [
        "n1=[]\n",
        "for i in range (0,999):\n",
        "  if(i%3==0) or (i%5==0):\n",
        "    n1.append(str(i))\n",
        "print(n1)"
      ],
      "execution_count": 0,
      "outputs": []
    },
    {
      "cell_type": "markdown",
      "metadata": {
        "id": "etE2Cdo1YyOg",
        "colab_type": "text"
      },
      "source": [
        "ödev 4\n"
      ]
    },
    {
      "cell_type": "code",
      "metadata": {
        "id": "QVZ19v2QYzfG",
        "colab_type": "code",
        "colab": {}
      },
      "source": [
        "def fib(n):\n",
        "  a=0\n",
        "  b=1\n",
        "\n",
        "  if n==1:\n",
        "    print(a)\n",
        "  else:\n",
        "    print(a)\n",
        "    print(b)\n",
        "\n",
        "    for i in range(2,n):\n",
        "      c=a+b\n",
        "      a=b\n",
        "      b=c\n",
        "      if c<=4000000:\n",
        "        if c %2==0:\n",
        "          print(c)\n",
        "\n",
        "fib(4000000)\n"
      ],
      "execution_count": 0,
      "outputs": []
    }
  ]
}